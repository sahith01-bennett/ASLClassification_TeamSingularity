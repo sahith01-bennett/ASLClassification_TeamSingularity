{
 "cells": [
  {
   "cell_type": "code",
   "execution_count": 21,
   "id": "db840a5a-224e-4c38-9316-ba273d7b8667",
   "metadata": {
    "tags": []
   },
   "outputs": [],
   "source": [
    "# Standard Python libraries\n",
    "import os  # For operating system dependent functionality\n",
    "import random  # For generating random numbers\n",
    "\n",
    "# Data handling and manipulation libraries\n",
    "import numpy as np  # For numerical operations on arrays\n",
    "\n",
    "# PIL - Python Imaging Library\n",
    "from PIL import Image  # For image processing\n",
    "\n",
    "# PyTorch - Deep learning framework\n",
    "import torch  # Main PyTorch library\n",
    "import torch.nn as nn  # For building neural network layers\n",
    "import torch.optim as optim  # For optimization algorithms\n",
    "from torch.utils.data import DataLoader, Dataset, random_split  # Utilities for data handling in PyTorch\n",
    "\n",
    "# torchvision - Utilities for working with image data and pretrained models\n",
    "from torchvision import transforms  # For image transformations\n",
    "from torchvision.models import resnet152, ResNet152_Weights  # Pretrained models and their weights\n",
    "\n",
    "# tqdm - Library for progress bars\n",
    "from tqdm import tqdm  # For displaying progress bars in loops\n",
    "\n"
   ]
  },
  {
   "cell_type": "code",
   "execution_count": 16,
   "id": "bfc1b532-cca0-4c2c-9df7-cd0fb5b68cee",
   "metadata": {
    "tags": []
   },
   "outputs": [
    {
     "name": "stdout",
     "output_type": "stream",
     "text": [
      "Current device is : cuda\n"
     ]
    }
   ],
   "source": [
    "def setup_device():\n",
    "    \"\"\"Set up the PyTorch device - use GPU if available, otherwise CPU.\"\"\"\n",
    "    device = torch.device(\"cuda\" if torch.cuda.is_available() else \"cpu\")\n",
    "    print(f\"Current device is : {device}\")\n",
    "    return device\n",
    "\n",
    "# Call the function to set up the device\n",
    "device = setup_device()\n",
    "\n"
   ]
  },
  {
   "cell_type": "code",
   "execution_count": null,
   "id": "1ef6c4cf-84a7-48e8-85de-29fe830026b3",
   "metadata": {
    "tags": []
   },
   "outputs": [],
   "source": []
  },
  {
   "cell_type": "code",
   "execution_count": 13,
   "id": "a51e3673-cb88-42ff-8b46-8df1e692953e",
   "metadata": {
    "tags": []
   },
   "outputs": [],
   "source": [
    "# Define a transformation pipeline for preprocessing the image data\n",
    "transform = transforms.Compose(\n",
    "    [\n",
    "        transforms.Resize((224, 224)),  # Resize images to 224x224 pixels\n",
    "        transforms.RandomHorizontalFlip(), # Randomly flip images horizontally\n",
    "        transforms.RandomRotation(10), # Randomly rotate images by up to 10 degrees\n",
    "        transforms.ColorJitter(brightness=0.2, contrast=0.2), # Randomly change brightness and contrast\n",
    "        transforms.RandomAffine(degrees=0, translate=(0.1, 0.1)),  # Affine transformation\n",
    "        transforms.ToTensor(), # Convert images to PyTorch tensors\n",
    "        transforms.Normalize(mean=[0.485, 0.456, 0.406], std=[0.229, 0.224, 0.225]) # Normalize images with pre-defined mean and std\n",
    "    ]\n",
    ")"
   ]
  },
  {
   "cell_type": "code",
   "execution_count": 14,
   "id": "b64e86e8-b3e9-473e-b5e2-73b9b83abd91",
   "metadata": {
    "tags": []
   },
   "outputs": [],
   "source": [
    "from torch.utils.data import Dataset\n",
    "from PIL import Image\n",
    "\n",
    "class CustomDataset(Dataset):\n",
    "    def __init__(self, data, labels, transform=None):\n",
    "        # Initialize dataset with data, labels, and optional transforms\n",
    "        self.data = data\n",
    "        self.labels = labels\n",
    "        self.transform = transform\n",
    "\n",
    "    def __len__(self):\n",
    "        # Return number of items in dataset\n",
    "        return len(self.labels)\n",
    "\n",
    "    def __getitem__(self, idx):\n",
    "        # Get image and label by index\n",
    "\n",
    "        # Reshape image data and convert to PIL Image\n",
    "        image = self.data[:, idx].reshape(300, 300, 3)\n",
    "        image = Image.fromarray(image)\n",
    "\n",
    "        # Apply transform if provided\n",
    "        if self.transform:\n",
    "            image = self.transform(image)\n",
    "\n",
    "        # Get label for the image\n",
    "        label = self.labels[idx]\n",
    "\n",
    "        return image, label"
   ]
  },
  {
   "cell_type": "code",
   "execution_count": 19,
   "id": "50a2c4bd-fea0-4102-be75-45285fdc0507",
   "metadata": {
    "tags": []
   },
   "outputs": [],
   "source": [
    "def load_dataset(filepath):\n",
    "    \"\"\"Load dataset from a .npy file.\"\"\"\n",
    "    return np.load(filepath)\n",
    "\n",
    "def create_loaders(train_dataset, val_dataset, train_batch_size, val_batch_size):\n",
    "    \"\"\"Create data loaders for training and validation datasets.\"\"\"\n",
    "    train_loader = DataLoader(train_dataset, batch_size=train_batch_size, shuffle=True)\n",
    "    val_loader = DataLoader(val_dataset, batch_size=val_batch_size)\n",
    "    return train_loader, val_loader\n",
    "\n",
    "# File paths for the training dataset and labels\n",
    "training_data_filepath = 'data_train.npy'\n",
    "training_labels_filepath = 'labels_train.npy'\n",
    "\n",
    "# Loading the data and labels\n",
    "data = load_dataset(training_data_filepath)\n",
    "labels = load_dataset(training_labels_filepath)\n",
    "\n",
    "# Creating a custom dataset with predefined transformations\n",
    "dataset = CustomDataset(data, labels, transform=transform)\n",
    "\n",
    "# Splitting the dataset into training and validation sets\n",
    "train_size = int(0.9 * len(dataset))  # 90% for training\n",
    "val_size = len(dataset) - train_size  # Remaining for validation\n",
    "\n",
    "train_dataset, val_dataset = random_split(dataset, [train_size, val_size])\n",
    "\n",
    "# Creating data loaders\n",
    "train_loader, val_loader = create_loaders(train_dataset, val_dataset, 128, 128)\n"
   ]
  },
  {
   "cell_type": "code",
   "execution_count": null,
   "id": "6a6a4d78-9cad-4be3-bf6f-095f8f97f34e",
   "metadata": {
    "tags": []
   },
   "outputs": [],
   "source": []
  },
  {
   "cell_type": "code",
   "execution_count": 20,
   "id": "b573c9f0-42b9-4f5f-9b52-51d230a8a89f",
   "metadata": {
    "tags": []
   },
   "outputs": [
    {
     "name": "stderr",
     "output_type": "stream",
     "text": [
      "100%|██████████| 60/60 [00:35<00:00,  1.67it/s]\n",
      "100%|██████████| 7/7 [00:02<00:00,  2.55it/s]\n"
     ]
    },
    {
     "name": "stdout",
     "output_type": "stream",
     "text": [
      "Epoch [1/20]: Train Loss: 0.8411, Train Acc: 76.18%, Val Loss: 0.1248, Val Acc: 98.26%, Unknown Predictions: 40\n"
     ]
    },
    {
     "name": "stderr",
     "output_type": "stream",
     "text": [
      "100%|██████████| 60/60 [00:35<00:00,  1.69it/s]\n",
      "100%|██████████| 7/7 [00:02<00:00,  2.59it/s]\n"
     ]
    },
    {
     "name": "stdout",
     "output_type": "stream",
     "text": [
      "Epoch [2/20]: Train Loss: 0.0760, Train Acc: 97.80%, Val Loss: 0.0993, Val Acc: 98.79%, Unknown Predictions: 16\n"
     ]
    },
    {
     "name": "stderr",
     "output_type": "stream",
     "text": [
      "100%|██████████| 60/60 [00:35<00:00,  1.69it/s]\n",
      "100%|██████████| 7/7 [00:02<00:00,  2.61it/s]\n"
     ]
    },
    {
     "name": "stdout",
     "output_type": "stream",
     "text": [
      "Epoch [3/20]: Train Loss: 0.0412, Train Acc: 98.87%, Val Loss: 0.0840, Val Acc: 98.68%, Unknown Predictions: 13\n"
     ]
    },
    {
     "name": "stderr",
     "output_type": "stream",
     "text": [
      "100%|██████████| 60/60 [00:35<00:00,  1.69it/s]\n",
      "100%|██████████| 7/7 [00:02<00:00,  2.61it/s]\n"
     ]
    },
    {
     "name": "stdout",
     "output_type": "stream",
     "text": [
      "Epoch [4/20]: Train Loss: 0.0328, Train Acc: 99.20%, Val Loss: 0.0587, Val Acc: 99.28%, Unknown Predictions: 8\n"
     ]
    },
    {
     "name": "stderr",
     "output_type": "stream",
     "text": [
      "100%|██████████| 60/60 [00:35<00:00,  1.69it/s]\n",
      "100%|██████████| 7/7 [00:02<00:00,  2.58it/s]\n"
     ]
    },
    {
     "name": "stdout",
     "output_type": "stream",
     "text": [
      "Epoch [5/20]: Train Loss: 0.0156, Train Acc: 99.62%, Val Loss: 0.0620, Val Acc: 99.40%, Unknown Predictions: 6\n"
     ]
    },
    {
     "name": "stderr",
     "output_type": "stream",
     "text": [
      "100%|██████████| 60/60 [00:35<00:00,  1.69it/s]\n",
      "100%|██████████| 7/7 [00:02<00:00,  2.61it/s]\n"
     ]
    },
    {
     "name": "stdout",
     "output_type": "stream",
     "text": [
      "Epoch [6/20]: Train Loss: 0.0200, Train Acc: 99.43%, Val Loss: 0.0577, Val Acc: 99.28%, Unknown Predictions: 7\n"
     ]
    },
    {
     "name": "stderr",
     "output_type": "stream",
     "text": [
      "100%|██████████| 60/60 [00:35<00:00,  1.69it/s]\n",
      "100%|██████████| 7/7 [00:02<00:00,  2.61it/s]\n"
     ]
    },
    {
     "name": "stdout",
     "output_type": "stream",
     "text": [
      "Epoch [7/20]: Train Loss: 0.0203, Train Acc: 99.46%, Val Loss: 0.0580, Val Acc: 99.28%, Unknown Predictions: 6\n"
     ]
    },
    {
     "name": "stderr",
     "output_type": "stream",
     "text": [
      "100%|██████████| 60/60 [00:35<00:00,  1.69it/s]\n",
      "100%|██████████| 7/7 [00:02<00:00,  2.61it/s]\n"
     ]
    },
    {
     "name": "stdout",
     "output_type": "stream",
     "text": [
      "Epoch [8/20]: Train Loss: 0.0160, Train Acc: 99.59%, Val Loss: 0.0509, Val Acc: 99.40%, Unknown Predictions: 8\n"
     ]
    },
    {
     "name": "stderr",
     "output_type": "stream",
     "text": [
      "100%|██████████| 60/60 [00:35<00:00,  1.70it/s]\n",
      "100%|██████████| 7/7 [00:02<00:00,  2.62it/s]\n"
     ]
    },
    {
     "name": "stdout",
     "output_type": "stream",
     "text": [
      "Epoch [9/20]: Train Loss: 0.0138, Train Acc: 99.57%, Val Loss: 0.0586, Val Acc: 99.52%, Unknown Predictions: 11\n"
     ]
    },
    {
     "name": "stderr",
     "output_type": "stream",
     "text": [
      "100%|██████████| 60/60 [00:35<00:00,  1.70it/s]\n",
      "100%|██████████| 7/7 [00:02<00:00,  2.62it/s]\n"
     ]
    },
    {
     "name": "stdout",
     "output_type": "stream",
     "text": [
      "Epoch [10/20]: Train Loss: 0.0125, Train Acc: 99.63%, Val Loss: 0.0498, Val Acc: 99.64%, Unknown Predictions: 8\n"
     ]
    },
    {
     "name": "stderr",
     "output_type": "stream",
     "text": [
      "100%|██████████| 60/60 [00:35<00:00,  1.69it/s]\n",
      "100%|██████████| 7/7 [00:02<00:00,  2.58it/s]\n"
     ]
    },
    {
     "name": "stdout",
     "output_type": "stream",
     "text": [
      "Epoch [11/20]: Train Loss: 0.0081, Train Acc: 99.78%, Val Loss: 0.0780, Val Acc: 99.16%, Unknown Predictions: 8\n"
     ]
    },
    {
     "name": "stderr",
     "output_type": "stream",
     "text": [
      "100%|██████████| 60/60 [00:35<00:00,  1.69it/s]\n",
      "100%|██████████| 7/7 [00:02<00:00,  2.58it/s]\n"
     ]
    },
    {
     "name": "stdout",
     "output_type": "stream",
     "text": [
      "Epoch [12/20]: Train Loss: 0.0115, Train Acc: 99.66%, Val Loss: 0.0668, Val Acc: 99.28%, Unknown Predictions: 7\n"
     ]
    },
    {
     "name": "stderr",
     "output_type": "stream",
     "text": [
      "100%|██████████| 60/60 [00:35<00:00,  1.70it/s]\n",
      "100%|██████████| 7/7 [00:02<00:00,  2.62it/s]\n"
     ]
    },
    {
     "name": "stdout",
     "output_type": "stream",
     "text": [
      "Epoch [13/20]: Train Loss: 0.0034, Train Acc: 99.92%, Val Loss: 0.0676, Val Acc: 99.29%, Unknown Predictions: 5\n"
     ]
    },
    {
     "name": "stderr",
     "output_type": "stream",
     "text": [
      "100%|██████████| 60/60 [00:35<00:00,  1.69it/s]\n",
      "100%|██████████| 7/7 [00:02<00:00,  2.62it/s]\n"
     ]
    },
    {
     "name": "stdout",
     "output_type": "stream",
     "text": [
      "Epoch [14/20]: Train Loss: 0.0041, Train Acc: 99.86%, Val Loss: 0.0684, Val Acc: 99.28%, Unknown Predictions: 6\n"
     ]
    },
    {
     "name": "stderr",
     "output_type": "stream",
     "text": [
      "100%|██████████| 60/60 [00:35<00:00,  1.69it/s]\n",
      "100%|██████████| 7/7 [00:02<00:00,  2.61it/s]\n"
     ]
    },
    {
     "name": "stdout",
     "output_type": "stream",
     "text": [
      "Epoch [15/20]: Train Loss: 0.0061, Train Acc: 99.82%, Val Loss: 0.0579, Val Acc: 99.29%, Unknown Predictions: 4\n"
     ]
    },
    {
     "name": "stderr",
     "output_type": "stream",
     "text": [
      "100%|██████████| 60/60 [00:35<00:00,  1.69it/s]\n",
      "100%|██████████| 7/7 [00:02<00:00,  2.59it/s]\n"
     ]
    },
    {
     "name": "stdout",
     "output_type": "stream",
     "text": [
      "Epoch [16/20]: Train Loss: 0.0049, Train Acc: 99.82%, Val Loss: 0.0619, Val Acc: 99.29%, Unknown Predictions: 4\n"
     ]
    },
    {
     "name": "stderr",
     "output_type": "stream",
     "text": [
      "100%|██████████| 60/60 [00:35<00:00,  1.69it/s]\n",
      "100%|██████████| 7/7 [00:02<00:00,  2.62it/s]\n"
     ]
    },
    {
     "name": "stdout",
     "output_type": "stream",
     "text": [
      "Epoch [17/20]: Train Loss: 0.0082, Train Acc: 99.80%, Val Loss: 0.0852, Val Acc: 98.57%, Unknown Predictions: 8\n"
     ]
    },
    {
     "name": "stderr",
     "output_type": "stream",
     "text": [
      "100%|██████████| 60/60 [00:35<00:00,  1.69it/s]\n",
      "100%|██████████| 7/7 [00:02<00:00,  2.62it/s]\n"
     ]
    },
    {
     "name": "stdout",
     "output_type": "stream",
     "text": [
      "Epoch [18/20]: Train Loss: 0.0071, Train Acc: 99.80%, Val Loss: 0.0739, Val Acc: 99.05%, Unknown Predictions: 2\n"
     ]
    },
    {
     "name": "stderr",
     "output_type": "stream",
     "text": [
      "100%|██████████| 60/60 [00:35<00:00,  1.69it/s]\n",
      "100%|██████████| 7/7 [00:02<00:00,  2.62it/s]\n"
     ]
    },
    {
     "name": "stdout",
     "output_type": "stream",
     "text": [
      "Epoch [19/20]: Train Loss: 0.0115, Train Acc: 99.66%, Val Loss: 0.0687, Val Acc: 99.17%, Unknown Predictions: 5\n"
     ]
    },
    {
     "name": "stderr",
     "output_type": "stream",
     "text": [
      "100%|██████████| 60/60 [00:35<00:00,  1.69it/s]\n",
      "100%|██████████| 7/7 [00:02<00:00,  2.59it/s]"
     ]
    },
    {
     "name": "stdout",
     "output_type": "stream",
     "text": [
      "Epoch [20/20]: Train Loss: 0.0050, Train Acc: 99.87%, Val Loss: 0.0621, Val Acc: 99.29%, Unknown Predictions: 5\n"
     ]
    },
    {
     "name": "stderr",
     "output_type": "stream",
     "text": [
      "\n"
     ]
    }
   ],
   "source": [
    "import os\n",
    "import torch\n",
    "import torch.optim as optim\n",
    "import torch.nn as nn\n",
    "from torchvision.models import resnet152, ResNet152_Weights\n",
    "from tqdm import tqdm\n",
    "\n",
    "# Define paths and constants\n",
    "SAVE_PATH = 'model saves/Best Model 6'  \n",
    "NUM_CLASSES = 9\n",
    "NUM_EPOCHS = 20\n",
    "LEARNING_RATE = 0.0001\n",
    "WEIGHT_DECAY = 1e-05\n",
    "CONFIDENCE_THRESHOLD = 0.7\n",
    "\n",
    "# Create directory for saving model\n",
    "os.makedirs(SAVE_PATH, exist_ok=True)\n",
    "\n",
    "def modify_resnet152(num_classes):\n",
    "    model = resnet152(weights=ResNet152_Weights.DEFAULT)\n",
    "    model.fc = nn.Linear(model.fc.in_features, num_classes)\n",
    "    return model\n",
    "\n",
    "def predict_with_confidence_threshold(outputs, threshold):\n",
    "    probabilities = torch.nn.functional.softmax(outputs, dim=1)\n",
    "    max_probs, preds = torch.max(probabilities, dim=1)\n",
    "    preds[max_probs < threshold] = -1\n",
    "    return preds\n",
    "\n",
    "def train_model(model, criterion, optimizer, num_epochs, train_loader, val_loader, save_path):\n",
    "    last_accuracy = 0\n",
    "    for epoch in range(num_epochs):\n",
    "        # Training phase\n",
    "        model.train()\n",
    "        train_loss, train_correct, train_total, _ = run_phase(model, train_loader, criterion, optimizer, training=True)\n",
    "\n",
    "        # Evaluation phase\n",
    "        model.eval()\n",
    "        val_loss, val_correct, val_total, val_unknown = run_phase(model, val_loader, criterion, optimizer, training=False)\n",
    "\n",
    "        # Print and save model\n",
    "        print_epoch_results(epoch, num_epochs, train_loss, train_total, train_correct, val_loss, val_total, val_correct, val_unknown)\n",
    "        if val_total > 0 and 100 * val_correct / val_total > last_accuracy:\n",
    "            torch.save(model.state_dict(), os.path.join(save_path, f'model_epoch_{epoch+1}.pth'))\n",
    "            last_accuracy = 100 * val_correct / val_total\n",
    "\n",
    "def run_phase(model, loader, criterion, optimizer, training=True):\n",
    "    total_loss, correct, total, unknown = 0.0, 0, 0, 0\n",
    "    for images, labels in tqdm(loader):\n",
    "        images, labels = images.to(device).float(), labels.to(device).long()  # Ensuring correct data types\n",
    "        outputs = model(images)\n",
    "        loss = criterion(outputs, labels)\n",
    "\n",
    "        if training:\n",
    "            optimizer.zero_grad()\n",
    "            loss.backward()\n",
    "            optimizer.step()\n",
    "\n",
    "        total_loss += loss.item()\n",
    "        if training:\n",
    "            preds = torch.max(outputs.data, 1)[1]\n",
    "        else:\n",
    "            preds = predict_with_confidence_threshold(outputs, CONFIDENCE_THRESHOLD)\n",
    "            unknown += (preds == -1).sum().item()\n",
    "            preds, labels = preds[preds != -1], labels[preds != -1]\n",
    "\n",
    "        total += labels.size(0)\n",
    "        correct += (preds == labels).sum().item()\n",
    "\n",
    "    return total_loss, correct, total, unknown\n",
    "\n",
    "def print_epoch_results(epoch, num_epochs, train_loss, train_total, train_correct, val_loss, val_total, val_correct, val_unknown):\n",
    "    train_accuracy = 100 * train_correct / train_total if train_total > 0 else 0\n",
    "    val_accuracy = 100 * val_correct / val_total if val_total > 0 else 0\n",
    "    print(f\"Epoch [{epoch+1}/{num_epochs}]: Train Loss: {train_loss/len(train_loader):.4f}, \"\n",
    "          f\"Train Acc: {train_accuracy:.2f}%, Val Loss: {val_loss/len(val_loader):.4f}, \"\n",
    "          f\"Val Acc: {val_accuracy:.2f}%, Unknown Predictions: {val_unknown}\")\n",
    "\n",
    "# Main execution\n",
    "model = modify_resnet152(NUM_CLASSES)\n",
    "model.to(device)\n",
    "criterion = nn.CrossEntropyLoss()\n",
    "optimizer = optim.Adam(model.parameters(), lr=LEARNING_RATE, weight_decay=WEIGHT_DECAY)\n",
    "\n",
    "train_model(model, criterion, optimizer, NUM_EPOCHS, train_loader, val_loader, SAVE_PATH)\n"
   ]
  },
  {
   "cell_type": "markdown",
   "id": "50fc29b8-03c9-4627-82e9-3dd9b8f8ab92",
   "metadata": {
    "tags": []
   },
   "source": []
  },
  {
   "cell_type": "code",
   "execution_count": null,
   "id": "48dccd5f-30e0-4594-80dc-a594d8a29d96",
   "metadata": {
    "tags": []
   },
   "outputs": [],
   "source": []
  },
  {
   "cell_type": "code",
   "execution_count": null,
   "id": "722ec91b-c1f2-4ef8-a0ac-5fbc3efcf319",
   "metadata": {
    "tags": []
   },
   "outputs": [],
   "source": []
  },
  {
   "cell_type": "code",
   "execution_count": null,
   "id": "2d3a74ea-02f3-4efe-9543-7fbed7ec714c",
   "metadata": {
    "tags": []
   },
   "outputs": [],
   "source": []
  },
  {
   "cell_type": "code",
   "execution_count": null,
   "id": "eb898768-f097-45cb-a069-d58dcd6727b6",
   "metadata": {},
   "outputs": [],
   "source": []
  }
 ],
 "metadata": {
  "kernelspec": {
   "display_name": "PyTorch-2.0.1",
   "language": "python",
   "name": "pytorch-2.0.1"
  },
  "language_info": {
   "codemirror_mode": {
    "name": "ipython",
    "version": 3
   },
   "file_extension": ".py",
   "mimetype": "text/x-python",
   "name": "python",
   "nbconvert_exporter": "python",
   "pygments_lexer": "ipython3",
   "version": "3.10.11"
  }
 },
 "nbformat": 4,
 "nbformat_minor": 5
}
