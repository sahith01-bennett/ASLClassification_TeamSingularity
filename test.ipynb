{
 "cells": [
  {
   "cell_type": "code",
   "execution_count": 9,
   "id": "04a10295-7ac7-4950-9040-a83ef08a9f65",
   "metadata": {
    "tags": []
   },
   "outputs": [],
   "source": [
    "# Standard Python libraries\n",
    "import os  # For operating system dependent functionality\n",
    "import random  # For generating random numbers\n",
    "\n",
    "# Data handling and manipulation libraries\n",
    "import numpy as np  # For numerical operations on arrays\n",
    "\n",
    "# PIL - Python Imaging Library\n",
    "from PIL import Image  # For image processing\n",
    "\n",
    "# PyTorch - Deep learning framework\n",
    "import torch  # Main PyTorch library\n",
    "import torch.nn as nn  # For building neural network layers\n",
    "import torch.optim as optim  # For optimization algorithms\n",
    "from torch.utils.data import DataLoader, Dataset, random_split  # Utilities for data handling in PyTorch\n",
    "\n",
    "# torchvision - Utilities for working with image data and pretrained models\n",
    "from torchvision import transforms  # For image transformations\n",
    "from torchvision.models import resnet152, ResNet152_Weights  # Pretrained models and their weights\n",
    "\n",
    "# Scikit-learn - Machine learning library\n",
    "from sklearn.metrics import accuracy_score, f1_score, confusion_matrix  # Metrics for evaluating model performance\n",
    "\n",
    "# tqdm - Library for progress bars\n",
    "from tqdm import tqdm  # For displaying progress bars in loops\n",
    "\n",
    "import matplotlib.pyplot as plt\n",
    "from sklearn.metrics import roc_curve, auc, classification_report\n",
    "from sklearn.preprocessing import label_binarize\n",
    "from itertools import cycle\n",
    "from scipy import interp\n",
    "\n"
   ]
  },
  {
   "cell_type": "code",
   "execution_count": 10,
   "id": "2035a283-18e4-409b-8cb7-9ca82d0360ce",
   "metadata": {
    "tags": []
   },
   "outputs": [
    {
     "name": "stdout",
     "output_type": "stream",
     "text": [
      "Current device is : cuda\n"
     ]
    }
   ],
   "source": [
    "def setup_device():\n",
    "    \"\"\"Set up the PyTorch device - use GPU if available, otherwise CPU.\"\"\"\n",
    "    device = torch.device(\"cuda\" if torch.cuda.is_available() else \"cpu\")\n",
    "    print(f\"Current device is : {device}\")\n",
    "    return device\n",
    "\n",
    "# Call the function to set up the device\n",
    "device = setup_device()\n",
    "\n"
   ]
  },
  {
   "cell_type": "code",
   "execution_count": 11,
   "id": "fd02da08-22e1-454a-9cd2-ea9743945af8",
   "metadata": {
    "tags": []
   },
   "outputs": [],
   "source": [
    "transform = transforms.Compose([\n",
    "        transforms.Resize((224, 224)),\n",
    "        transforms.ToTensor(),\n",
    "        transforms.Normalize(mean=[0.485, 0.456, 0.406], std=[0.229, 0.224, 0.225])\n",
    "    ])"
   ]
  },
  {
   "cell_type": "code",
   "execution_count": 12,
   "id": "2dbc9327-8938-4262-a8ad-26132b01ba2b",
   "metadata": {
    "tags": []
   },
   "outputs": [],
   "source": [
    "class CustomDataset(Dataset):\n",
    "    def __init__(self, data, labels, transform=None):\n",
    "        # Initialize dataset with data, labels, and optional transforms\n",
    "        self.data = data\n",
    "        self.labels = labels\n",
    "        self.transform = transform\n",
    "\n",
    "    def __len__(self):\n",
    "        # Return number of items in dataset\n",
    "        return len(self.labels)\n",
    "\n",
    "    def __getitem__(self, idx):\n",
    "        # Get image and label by index\n",
    "\n",
    "        # Reshape image data and convert to PIL Image\n",
    "        image = self.data[:, idx].reshape(300, 300, 3)\n",
    "        image = Image.fromarray(image)\n",
    "\n",
    "        # Apply transform if provided\n",
    "        if self.transform:\n",
    "            image = self.transform(image)\n",
    "\n",
    "        # Get label for the image\n",
    "        label = self.labels[idx]\n",
    "\n",
    "        return image, label"
   ]
  },
  {
   "cell_type": "markdown",
   "id": "b61e00b2-01e8-4a6f-aecf-a76fea3ca55b",
   "metadata": {},
   "source": [
    "## Loading the Test set(change the file path for test set accordingly)"
   ]
  },
  {
   "cell_type": "code",
   "execution_count": 13,
   "id": "73b18938-2e5e-4bae-899b-1c2d7d96e3e1",
   "metadata": {
    "tags": []
   },
   "outputs": [],
   "source": [
    "def load_data(file_path):\n",
    "    \"\"\" Load data from a .npy file. \"\"\"\n",
    "    return np.load(file_path)\n",
    "\n",
    "def create_dataset(data, labels, transform=None):\n",
    "    \"\"\" Create a custom dataset using the loaded data and labels along with the predefined transformations. \"\"\"\n",
    "    return CustomDataset(data, labels, transform=transform)\n",
    "\n",
    "def create_data_loader(dataset, batch_size):\n",
    "    \"\"\" Create a DataLoader for the given dataset with the specified batch size. \"\"\"\n",
    "    return DataLoader(dataset, batch_size=batch_size)\n",
    "\n",
    "# Define file paths for the dataset and corresponding labels\n",
    "test_data_filepath = 'data-1.npy'# File path to data of test set\n",
    "test_labels_filepath = 'labels-1.npy' # File path to labels of test set\n",
    "\n",
    "# Load data and labels\n",
    "data = load_data(test_data_filepath) # Shape of data is Flattend Image data X Number of Samples\n",
    "labels = load_data(test_labels_filepath)\n",
    "\n",
    "\n",
    "# (Assuming 'transform' is predefined somewhere in your code)\n",
    "# Create a custom dataset\n",
    "dataset = create_dataset(data, labels, transform=transform)\n",
    "\n",
    "# Define batch size\n",
    "BATCH_SIZE = 128\n",
    "\n",
    "# Create a DataLoader\n",
    "test_loader = create_data_loader(dataset, BATCH_SIZE)"
   ]
  },
  {
   "cell_type": "markdown",
   "id": "600fe781-ffb6-4961-834b-32f379969eef",
   "metadata": {
    "tags": []
   },
   "source": [
    "## Testing the Model(change the file path for saved model accordingly)"
   ]
  },
  {
   "cell_type": "code",
   "execution_count": 17,
   "id": "b75f7f0c-6cc9-43ec-bcc5-eb32cd3acf9f",
   "metadata": {
    "tags": []
   },
   "outputs": [
    {
     "name": "stderr",
     "output_type": "stream",
     "text": [
      "/apps/pytorch/2.0.1/lib/python3.10/site-packages/torchvision/models/_utils.py:208: UserWarning: The parameter 'pretrained' is deprecated since 0.13 and may be removed in the future, please use 'weights' instead.\n",
      "  warnings.warn(\n",
      "/apps/pytorch/2.0.1/lib/python3.10/site-packages/torchvision/models/_utils.py:223: UserWarning: Arguments other than a weight enum or `None` for 'weights' are deprecated since 0.13 and may be removed in the future. The current behavior is equivalent to passing `weights=None`.\n",
      "  warnings.warn(msg)\n"
     ]
    },
    {
     "name": "stdout",
     "output_type": "stream",
     "text": [
      "Test Loss: 0.0002, Test Accuracy: 99.26%\n",
      "Classification Report:\n",
      "              precision    recall  f1-score   support\n",
      "\n",
      "           A       1.00      1.00      1.00        30\n",
      "           B       1.00      1.00      1.00        30\n",
      "           C       1.00      0.97      0.98        30\n",
      "           D       1.00      1.00      1.00        30\n",
      "           E       1.00      1.00      1.00        30\n",
      "           F       1.00      1.00      1.00        30\n",
      "           G       0.94      1.00      0.97        30\n",
      "           H       1.00      0.97      0.98        30\n",
      "           I       1.00      1.00      1.00        30\n",
      "\n",
      "    accuracy                           0.99       270\n",
      "   macro avg       0.99      0.99      0.99       270\n",
      "weighted avg       0.99      0.99      0.99       270\n",
      "\n"
     ]
    }
   ],
   "source": [
    "def load_model(model_path, num_classes):\n",
    "    # Load a ResNet152 model with a specified number of classes.\n",
    "    model = resnet152(pretrained=False, num_classes=num_classes)\n",
    "    model.load_state_dict(torch.load(model_path))\n",
    "    return model\n",
    "\n",
    "def evaluate_model(model, test_loader, criterion, device):\n",
    "    model.eval()  # Set the model to evaluation mode\n",
    "    y_pred = []\n",
    "    y_true = []\n",
    "    test_loss = 0\n",
    "    correct = 0\n",
    "    total = 0\n",
    "\n",
    "    with torch.no_grad():\n",
    "        for data, target in test_loader:\n",
    "            data = data.to(device).float()  # Ensure data is in float32\n",
    "            target = target.to(device).long()  # Ensure target labels are in long\n",
    "\n",
    "            output = model(data)\n",
    "\n",
    "            # Convert model output to float32 if not already\n",
    "            output = output.float()\n",
    "\n",
    "            test_loss += criterion(output, target).item()\n",
    "\n",
    "            _, predicted = torch.max(output.data, 1)\n",
    "            total += target.size(0)\n",
    "            correct += (predicted == target).sum().item()\n",
    "\n",
    "            y_pred.extend(predicted.view(-1).cpu().numpy())\n",
    "            y_true.extend(target.view(-1).cpu().numpy())\n",
    "\n",
    "    test_loss /= len(test_loader.dataset)\n",
    "    test_accuracy = 100 * correct / total\n",
    "\n",
    "    # Generate classification report\n",
    "    report = classification_report(y_true, y_pred, target_names=[class_mapping[i] for i in range(NUM_CLASSES)])\n",
    "\n",
    "    return test_loss, test_accuracy, report\n",
    "\n",
    "\n",
    "\n",
    "# Define paths, constants, and class mapping.\n",
    "MODEL_PATH = 'model saves/Best Model 6/model_epoch_10.pth'\n",
    "NUM_CLASSES = 9\n",
    "class_mapping = {0: 'A', 1: 'B', 2: 'C', 3: 'D', 4: 'E', 5: 'F', 6: 'G', 7: 'H', 8: 'I', -1: 'Unknown'}\n",
    "\n",
    "# Load model and define loss criterion.\n",
    "model = load_model(MODEL_PATH, NUM_CLASSES).to(device)\n",
    "criterion = nn.CrossEntropyLoss()\n",
    "\n",
    "# Evaluate the model.\n",
    "test_loss, test_accuracy , report = evaluate_model(model, test_loader, criterion, device)\n",
    "\n",
    "# Print the test loss and accuracy.\n",
    "print(f'Test Loss: {test_loss:.4f}, Test Accuracy: {test_accuracy:.2f}%')\n",
    "# Print the test loss, accuracy, and classification report\n",
    "print(\"Classification Report:\")\n",
    "print(report)\n"
   ]
  }
 ],
 "metadata": {
  "kernelspec": {
   "display_name": "PyTorch-2.0.1",
   "language": "python",
   "name": "pytorch-2.0.1"
  },
  "language_info": {
   "codemirror_mode": {
    "name": "ipython",
    "version": 3
   },
   "file_extension": ".py",
   "mimetype": "text/x-python",
   "name": "python",
   "nbconvert_exporter": "python",
   "pygments_lexer": "ipython3",
   "version": "3.10.11"
  }
 },
 "nbformat": 4,
 "nbformat_minor": 5
}
